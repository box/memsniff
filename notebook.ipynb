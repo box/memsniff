{
 "cells": [
  {
   "cell_type": "code",
   "execution_count": 99,
   "metadata": {},
   "outputs": [],
   "source": [
    "from kafka import KafkaConsumer, KafkaClient, SimpleClient\n",
    "from kafka.cluster import ClusterMetadata\n",
    "from kafka.consumer.fetcher import ConsumerRecord\n",
    "from kafka.structs import TopicPartition, OffsetAndTimestamp, OffsetRequestPayload\n",
    "import time\n",
    "from operator import itemgetter\n",
    "import requests\n",
    "import datetime\n",
    "import json"
   ]
  },
  {
   "cell_type": "code",
   "execution_count": 98,
   "metadata": {},
   "outputs": [],
   "source": [
    "def get_end_offsets(topic):\n",
    "    client = SimpleClient([\n",
    "        \"kafka1.internal.zomans.com:9092\",\n",
    "        \"kafka2.internal.zomans.com:9092\",\n",
    "        \"kafka3.internal.zomans.com:9092\",\n",
    "    ])\n",
    "\n",
    "    partitions = client.topic_partitions[topic]\n",
    "    offset_requests = [\n",
    "        OffsetRequestPayload(topic, p, -1, 1)\n",
    "        for p in partitions.keys()\n",
    "    ]\n",
    "\n",
    "    offsets_responses = client.send_offset_request(offset_requests)\n",
    "    return {\n",
    "        TopicPartition(topic=offset_response_payload.topic, partition=offset_response_payload.partition):\n",
    "            offset_response_payload.offsets[0]\n",
    "        for offset_response_payload in offsets_responses\n",
    "    }"
   ]
  },
  {
   "cell_type": "code",
   "execution_count": 3,
   "metadata": {},
   "outputs": [],
   "source": [
    "topic = \"logs.scripts.memsniff-events-v2\"\n",
    "client = SimpleClient([\n",
    "    \"kafka1.internal.zomans.com:9092\",\n",
    "    \"kafka2.internal.zomans.com:9092\",\n",
    "    \"kafka3.internal.zomans.com:9092\",\n",
    "])\n",
    "end_offsets = get_end_offsets(topic)\n",
    "msgs = []\n",
    "for partition in client.topic_partitions[topic].keys():\n",
    "    consumer = KafkaConsumer(\n",
    "        client_id='zmemsniff-kafka-consumer-client-1',\n",
    "        bootstrap_servers=[\n",
    "            \"kafka1.internal.zomans.com:9092\",\n",
    "            \"kafka2.internal.zomans.com:9092\",\n",
    "            \"kafka3.internal.zomans.com:9092\",\n",
    "        ],\n",
    "        auto_offset_reset='earliest',\n",
    "    )\n",
    "    topic_partition = TopicPartition(topic=topic, partition=partition)\n",
    "    consumer.assign([\n",
    "        topic_partition,\n",
    "    ])\n",
    "    for msg in consumer:\n",
    "        if consumer.position(partition=topic_partition) >= end_offsets[topic_partition]:\n",
    "            break\n",
    "        msgs.append(msg)\n",
    "    consumer.close()"
   ]
  },
  {
   "cell_type": "code",
   "execution_count": 81,
   "metadata": {},
   "outputs": [],
   "source": [
    "today = int(datetime.datetime.now().timestamp()) * 1000\n",
    "yesterday = int(datetime.datetime.now().timestamp() - 24 * 60 * 60) * 1000"
   ]
  },
  {
   "cell_type": "code",
   "execution_count": 86,
   "metadata": {},
   "outputs": [],
   "source": [
    "filtered_msgs = [msg for msg in msgs if yesterday <= msg.timestamp <= today]"
   ]
  },
  {
   "cell_type": "code",
   "execution_count": 87,
   "metadata": {},
   "outputs": [],
   "source": [
    "global_aggregates = {\n",
    "    'avg(size)': {},\n",
    "    'cnt(size)': {},\n",
    "    'sum(size)': {},\n",
    "}\n",
    "for msg in filtered_msgs:\n",
    "    event = json.loads(msg.value)\n",
    "    for item in event['event_message']['analysis_report']['rows']:\n",
    "        if item['key'][0] not in global_aggregates[event['event_message']['aggregate_column_name']]:\n",
    "            global_aggregates[event['event_message']['aggregate_column_name']][item['key'][0]] = []\n",
    "        global_aggregates[event['event_message']['aggregate_column_name']][item['key'][0]].append({\n",
    "            event['event_message']['analysis_report']['val_col_names'][idx]: val\n",
    "            for idx, val in enumerate(item['values'])\n",
    "        })"
   ]
  },
  {
   "cell_type": "code",
   "execution_count": 88,
   "metadata": {},
   "outputs": [],
   "source": [
    "global_aggregate_items = {\n",
    "    'avg(size)': [],\n",
    "    'cnt(size)': [],\n",
    "    'sum(size)': [],\n",
    "}\n",
    "for aggregate_type in global_aggregates.keys():\n",
    "    for key, value in global_aggregates[aggregate_type].items():\n",
    "        gagts = {\n",
    "            'avg(size)': 0,\n",
    "            'cnt(size)': 0,\n",
    "            'sum(size)': 0,\n",
    "        }\n",
    "        for agt in gagts.keys():\n",
    "            lagts = list(map(itemgetter(agt), value))\n",
    "            gagts[agt] = int(sum(lagts) / len(lagts))\n",
    "        global_aggregate_items[aggregate_type].append({\n",
    "            'key': key,\n",
    "            **gagts,\n",
    "        })"
   ]
  },
  {
   "cell_type": "code",
   "execution_count": 89,
   "metadata": {},
   "outputs": [],
   "source": [
    "for agt in global_aggregate_items.keys():\n",
    "    global_aggregate_items[agt] = sorted(\n",
    "        global_aggregate_items[agt],\n",
    "        key=itemgetter(agt),\n",
    "        reverse=True,\n",
    "    )[:5]"
   ]
  },
  {
   "cell_type": "code",
   "execution_count": 90,
   "metadata": {},
   "outputs": [
    {
     "name": "stdout",
     "output_type": "stream",
     "text": [
      "key                                                                         bytes      rpm        kbps      \n",
      "\n",
      "restaurant_allreviews_v2_90896_dd                                           831545     2          27        \n",
      "allCities_v7                                                                622681     2          20        \n",
      "restaurant_obp_base64_18667864                                              596969     2          19        \n",
      "restaurants_online_ordering_mapping_users_v3                                495375     2          16        \n",
      "flat_locations_seo_urls_v1_89                                               474876     2          15        \n",
      "\n",
      "\n",
      "\n",
      "\n",
      "key                                                                         bytes      rpm        kbps      \n",
      "\n",
      "dszID_of_cell_id_4110937077393129472                                        4          1378       0         \n",
      "dszID_of_cell_id_4110937206242148352                                        3          1178       0         \n",
      "dszID_of_cell_id_4110938206969528320                                        4          1154       0         \n",
      "dszID_of_cell_id_4110938159724888064                                        4          1126       0         \n",
      "feature_entity_cache_key_v1_::1::country::ENABLE_ZOMATO_LOYALTY::user       2          1018       0         \n",
      "\n",
      "\n",
      "\n",
      "\n",
      "key                                                                         bytes      rpm        kbps      \n",
      "o2_meta_filters_v10_2019-05-22                                              220108     118        422       \n",
      "o2_meta_filters_v10_2019-05-23                                              227831     84         314       \n",
      "localization_v2_1                                                           150395     72         176       \n",
      "res_beenthere_20404                                                         135415     34         74        \n",
      "diy_ads_v1_city_1                                                           151995     30         74        \n"
     ]
    }
   ],
   "source": [
    "print(f'{\"key\":<75} {\"bytes\":<10} {\"rpm\":<10} {\"kbps\":<10}')\n",
    "print()\n",
    "for agt_item in global_aggregate_items['avg(size)']:\n",
    "    print(f'{agt_item[\"key\"][19:]:<75} {agt_item[\"avg(size)\"]:<10} {int(agt_item[\"cnt(size)\"] * 2):<10} {int(agt_item[\"sum(size)\"] / (30 * 1024)):<10}')\n",
    "    \n",
    "print()\n",
    "print()\n",
    "print()\n",
    "print()\n",
    "print(f'{\"key\":<75} {\"bytes\":<10} {\"rpm\":<10} {\"kbps\":<10}')\n",
    "print()\n",
    "for agt_item in global_aggregate_items['cnt(size)']:\n",
    "    print(f'{agt_item[\"key\"][19:]:<75} {agt_item[\"avg(size)\"]:<10} {int(agt_item[\"cnt(size)\"] * 2):<10} {int(agt_item[\"sum(size)\"] / (30 * 1024)):<10}')\n",
    "    \n",
    "print()\n",
    "print()\n",
    "print()\n",
    "print()\n",
    "print(f'{\"key\":<75} {\"bytes\":<10} {\"rpm\":<10} {\"kbps\":<10}')\n",
    "for agt_item in global_aggregate_items['sum(size)']:\n",
    "    print(f'{agt_item[\"key\"][19:]:<75} {agt_item[\"avg(size)\"]:<10} {int(agt_item[\"cnt(size)\"] * 2):<10} {int(agt_item[\"sum(size)\"] / (30 * 1024)):<10}')"
   ]
  },
  {
   "cell_type": "code",
   "execution_count": 126,
   "metadata": {},
   "outputs": [],
   "source": [
    "markdown_items = []\n",
    "markdown_items.append(f'### big keys (kb)')\n",
    "markdown_items.append('==================')\n",
    "for agt_item in global_aggregate_items['avg(size)']:\n",
    "    markdown_items.append(f'**{agt_item[\"key\"][19:]}**')\n",
    "    markdown_items.append(f'> {agt_item[\"cnt(size)\"] * 2}rpm {int(agt_item[\"avg(size)\"] / 1024)}kb {int(agt_item[\"sum(size)\"] / (30 * 1024)):}kbps')\n",
    "    markdown_items.append('\\n')\n",
    "markdown_items.append('\\n &nbsp;&nbsp;&nbsp;&nbsp;&nbsp;&nbsp;&nbsp;')\n",
    "markdown_items.append('\\n &nbsp;&nbsp;&nbsp;&nbsp;&nbsp;&nbsp;&nbsp;')\n",
    "markdown_items.append('\\n &nbsp;&nbsp;&nbsp;&nbsp;&nbsp;&nbsp;&nbsp;')\n",
    "markdown_items.append('\\n &nbsp;&nbsp;&nbsp;&nbsp;&nbsp;&nbsp;&nbsp;')\n",
    "markdown_items.append('\\n &nbsp;&nbsp;&nbsp;&nbsp;&nbsp;&nbsp;&nbsp;')\n",
    "markdown_items.append('\\n &nbsp;&nbsp;&nbsp;&nbsp;&nbsp;&nbsp;&nbsp;')\n",
    "    \n",
    "markdown_items.append(f'### keys with highest throughput (rpm)')\n",
    "markdown_items.append('==================')\n",
    "for agt_item in global_aggregate_items['cnt(size)']:\n",
    "    markdown_items.append(f'**{agt_item[\"key\"][19:]}**')\n",
    "    markdown_items.append(f'> {agt_item[\"cnt(size)\"] * 2}rpm {int(agt_item[\"avg(size)\"] / 1024)}kb {int(agt_item[\"sum(size)\"] / (30 * 1024)):}kbps')\n",
    "    markdown_items.append('\\n')\n",
    "markdown_items.append('\\n &nbsp;&nbsp;&nbsp;&nbsp;&nbsp;&nbsp;&nbsp;')\n",
    "markdown_items.append('\\n &nbsp;&nbsp;&nbsp;&nbsp;&nbsp;&nbsp;&nbsp;')\n",
    "markdown_items.append('\\n &nbsp;&nbsp;&nbsp;&nbsp;&nbsp;&nbsp;&nbsp;')\n",
    "markdown_items.append('\\n &nbsp;&nbsp;&nbsp;&nbsp;&nbsp;&nbsp;&nbsp;')\n",
    "markdown_items.append('\\n &nbsp;&nbsp;&nbsp;&nbsp;&nbsp;&nbsp;&nbsp;')\n",
    "    \n",
    "markdown_items.append(f'### keys consuming high bandwidth (kbps)')\n",
    "markdown_items.append('==================')\n",
    "for agt_item in global_aggregate_items['sum(size)']:\n",
    "    markdown_items.append(f'**{agt_item[\"key\"][19:]}**')\n",
    "    markdown_items.append(f'> {agt_item[\"cnt(size)\"] * 2}rpm {int(agt_item[\"avg(size)\"] / 1024)}kb {int(agt_item[\"sum(size)\"] / (30 * 1024)):}kbps')\n",
    "    markdown_items.append('\\n')"
   ]
  },
  {
   "cell_type": "code",
   "execution_count": 127,
   "metadata": {},
   "outputs": [],
   "source": [
    "markdown_msg = '\\n'.join(markdown_items)"
   ]
  },
  {
   "cell_type": "code",
   "execution_count": 128,
   "metadata": {},
   "outputs": [],
   "source": [
    "resp = requests.post(\n",
    "    'https://oapi.dingtalk.com/robot/send?access_token=8a8a3ee885965a13b2d4f3e6942e59b402dec4959fb28e99b3d5fabdaa909f93',\n",
    "    headers={\n",
    "        'Content-Type': 'application/json;charset=utf-8',\n",
    "    },\n",
    "    json={\n",
    "        'msgtype': 'markdown',\n",
    "        'markdown': {\n",
    "            'title': \"Memcache Alert\",\n",
    "            'text': markdown_msg,\n",
    "        }\n",
    "    }\n",
    ")"
   ]
  },
  {
   "cell_type": "code",
   "execution_count": 129,
   "metadata": {},
   "outputs": [
    {
     "data": {
      "text/plain": [
       "<Response [200]>"
      ]
     },
     "execution_count": 129,
     "metadata": {},
     "output_type": "execute_result"
    }
   ],
   "source": [
    "resp"
   ]
  },
  {
   "cell_type": "code",
   "execution_count": null,
   "metadata": {},
   "outputs": [],
   "source": []
  }
 ],
 "metadata": {
  "kernelspec": {
   "display_name": "Python 3",
   "language": "python",
   "name": "python3"
  },
  "language_info": {
   "codemirror_mode": {
    "name": "ipython",
    "version": 3
   },
   "file_extension": ".py",
   "mimetype": "text/x-python",
   "name": "python",
   "nbconvert_exporter": "python",
   "pygments_lexer": "ipython3",
   "version": "3.6.5"
  }
 },
 "nbformat": 4,
 "nbformat_minor": 2
}
